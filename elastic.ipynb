{
 "cells": [
  {
   "cell_type": "code",
   "execution_count": 1,
   "metadata": {},
   "outputs": [],
   "source": [
    "import numpy as np\n",
    "import pandas as pd\n",
    "import sklearn\n",
    "import cv2\n",
    "from scipy.ndimage.interpolation import map_coordinates\n",
    "from scipy.ndimage.filters import gaussian_filter\n",
    "import matplotlib.pyplot as plt\n",
    "import sys\n",
    "sys.path.append('..')\n",
    "\n",
    "import torch\n",
    "from torch import nn\n",
    "from torch.autograd import Variable\n",
    "from torchvision.datasets import mnist # 导入 pytorch 内置的 mnist 数据"
   ]
  },
  {
   "cell_type": "code",
   "execution_count": 2,
   "metadata": {},
   "outputs": [],
   "source": [
    "def Elastic_transform(image, alpha, sigma):\n",
    "    shape = image.shape\n",
    "    shape_size = shape[:2]\n",
    "    dx = gaussian_filter((random_state.rand(*shape) * 2 - 1), sigma) * alpha\n",
    "    dy = gaussian_filter((random_state.rand(*shape) * 2 - 1), sigma) * alpha\n",
    "    dz = np.zeros_like(dx)\n",
    "\n",
    "    x, y, z = np.meshgrid(np.arange(shape[1]), np.arange(shape[0]), np.arange(shape[2]))\n",
    "    indices = np.reshape(y+dy, (-1, 1)), np.reshape(x+dx, (-1, 1)), np.reshape(z, (-1, 1))\n",
    "\n",
    "    return map_coordinates(image, indices, order=1, mode='reflect').reshape(shape)"
   ]
  },
  {
   "cell_type": "code",
   "execution_count": 3,
   "metadata": {},
   "outputs": [],
   "source": [
    "def elastic_transform(image, alpha, sigma, random_state=None):\n",
    "    \"\"\"Elastic deformation of images as described in [Simard2003]_.\n",
    "    .. [Simard2003] Simard, Steinkraus and Platt, \"Best Practices for\n",
    "       Convolutional Neural Networks applied to Visual Document Analysis\", in\n",
    "       Proc. of the International Conference on Document Analysis and\n",
    "       Recognition, 2003.\n",
    "    \"\"\"\n",
    "    if random_state is None:\n",
    "        random_state = np.random.RandomState(None)\n",
    "\n",
    "    shape = image.shape\n",
    "    dx = gaussian_filter((random_state.rand(*shape) * 2 - 1), sigma, mode=\"constant\", cval=0) * alpha\n",
    "    dy = gaussian_filter((random_state.rand(*shape) * 2 - 1), sigma, mode=\"constant\", cval=0) * alpha\n",
    "    dz = np.zeros_like(dx)\n",
    "\n",
    "    x, y, z = np.meshgrid(np.arange(shape[0]), np.arange(shape[1]), np.arange(shape[2]))\n",
    "    print(x.shape)\n",
    "    indices = np.reshape(y+dy, (-1, 1)), np.reshape(x+dx, (-1, 1)), np.reshape(z, (-1, 1))\n",
    " \n",
    "    distored_image = map_coordinates(image, indices,order=1, mode='reflect')\n",
    "    return distored_image.reshape(image.shape)"
   ]
  },
  {
   "cell_type": "code",
   "execution_count": 4,
   "metadata": {},
   "outputs": [],
   "source": [
    "# Elastic transform\n",
    "def elastic_transformations(alpha, sigma, rng=np.random.RandomState(42), \n",
    "                            interpolation_order=1):\n",
    "    \"\"\"Returns a function to elastically transform multiple images.\"\"\"\n",
    "    def _elastic_transform_2D(images):\n",
    "        \"\"\"`images` is a numpy array of shape (K, M, N) of K images of size M*N.\"\"\"\n",
    "        # Take measurements\n",
    "        image_shape = images[0].shape\n",
    "        # Make random fields\n",
    "        dx = rng.uniform(-1, 1, image_shape) * alpha\n",
    "        dy = rng.uniform(-1, 1, image_shape) * alpha\n",
    "        # Smooth dx and dy\n",
    "        sdx = gaussian_filter(dx, sigma=sigma, mode='reflect')\n",
    "        sdy = gaussian_filter(dy, sigma=sigma, mode='reflect')\n",
    "        # Make meshgrid\n",
    "        x, y = np.meshgrid(np.arange(image_shape[1]), np.arange(image_shape[0]))\n",
    "        # Distort meshgrid indices\n",
    "        distorted_indices = (y + sdy).reshape(-1, 1), \\\n",
    "                            (x + sdx).reshape(-1, 1)\n",
    "        # Map cooordinates from image to distorted index set\n",
    "        transformed_images = [map_coordinates(image, distorted_indices, mode='reflect',\n",
    "                                              order=interpolation_order).reshape(image_shape)\n",
    "                              for image in images]\n",
    "        return transformed_images\n",
    "    return _elastic_transform_2D"
   ]
  },
  {
   "cell_type": "code",
   "execution_count": 5,
   "metadata": {},
   "outputs": [],
   "source": [
    "# 使用内置函数下载 mnist 数据集\n",
    "train_set = mnist.MNIST('./data', train=True, download=True)\n",
    "test_set = mnist.MNIST('./data', train=False, download=True)"
   ]
  },
  {
   "cell_type": "code",
   "execution_count": 6,
   "metadata": {},
   "outputs": [
    {
     "data": {
      "image/png": "[encoded data removed]",
      "text/plain": [
       "<PIL.Image.Image image mode=L size=28x28 at 0x1A8CAB38>"
      ]
     },
     "execution_count": 6,
     "metadata": {},
     "output_type": "execute_result"
    }
   ],
   "source": [
    "a_data, a_label = train_set[1]\n",
    "a_data\n",
    "#plt.imshow(a_data)"
   ]
  },
  {
   "cell_type": "code",
   "execution_count": 7,
   "metadata": {},
   "outputs": [
    {
     "name": "stdout",
     "output_type": "stream",
     "text": [
      "torch.Size([1, 28, 28])\n",
      "5\n"
     ]
    }
   ],
   "source": [
    "def data_tf(x):\n",
    "    x = np.array(x, dtype='float32') / 255\n",
    "    x = (x - 0.5) / 0.5 # 标准化，这个技巧之后会讲到\n",
    "    x = x.reshape(1,28,28)\n",
    "    x = torch.from_numpy(x)\n",
    "    \n",
    "    return x\n",
    "\n",
    "train_set = mnist.MNIST('./data', train=True, transform=data_tf, download=True) # 重新载入数据集，申明定义的数据变换\n",
    "test_set = mnist.MNIST('./data', train=False, transform=data_tf, download=True)\n",
    "\n",
    "a, a_label = train_set[0]\n",
    "print(a.shape)\n",
    "print(a_label)"
   ]
  },
  {
   "cell_type": "code",
   "execution_count": null,
   "metadata": {},
   "outputs": [],
   "source": [
    "\n"
   ]
  },
  {
   "cell_type": "code",
   "execution_count": 8,
   "metadata": {},
   "outputs": [
    {
     "name": "stdout",
     "output_type": "stream",
     "text": [
      "Dataset MNIST\n",
      "    Number of datapoints: 60000\n",
      "    Root location: ./data\n",
      "    Split: Train\n",
      "    StandardTransform\n",
      "Transform: <function data_tf at 0x000000001DE1F400>\n",
      "Dataset MNIST\n",
      "    Number of datapoints: 10000\n",
      "    Root location: ./data\n",
      "    Split: Test\n",
      "    StandardTransform\n",
      "Transform: <function data_tf at 0x000000001DE1F400>\n",
      "torch.Size([64, 1, 28, 28])\n",
      "torch.Size([64])\n"
     ]
    }
   ],
   "source": [
    "from torch.utils.data import DataLoader\n",
    "# 使用 pytorch 自带的 DataLoader 定义一个数据迭代器\n",
    "train_data = DataLoader(train_set, batch_size=64, shuffle=True)\n",
    "test_data = DataLoader(test_set, batch_size=128, shuffle=False)\n",
    "print(train_data.dataset)\n",
    "print(test_data.dataset)\n",
    "a, a_label = next(iter(train_data))\n",
    "# 打印出一个批次的数据大小\n",
    "print(a.shape)\n",
    "print(a_label.shape)"
   ]
  },
  {
   "cell_type": "code",
   "execution_count": 9,
   "metadata": {},
   "outputs": [],
   "source": [
    "import cupy\n",
    "def Random_affine(image,alpha_affine,random_state=None):\n",
    "    if random_state is None:\n",
    "        random_state = np.random.RandomState(None)\n",
    "    shape = image.shape\n",
    "    shape_size = shape[:2]\n",
    "    # Random affine\n",
    "    center_square = np.float32(shape_size) // 2\n",
    "    square_size = min(shape_size) // 3\n",
    "    pts1 = np.float32([center_square + square_size, \n",
    "                       [center_square[0]+square_size, center_square[1]-square_size],\n",
    "                       center_square - square_size])\n",
    "    pts2 = pts1 + random_state.uniform(-alpha_affine,\n",
    "                                       alpha_affine, size=pts1.shape).astype(np.float32)\n",
    "    M = cv2.getAffineTransform(pts1, pts2)\n",
    "\n",
    "    image = cupy.asnumpy(image)\n",
    "    image = cv2.warpAffine(image,M,shape_size[::-1],borderValue=-1)\n",
    "    \n",
    "    return image"
   ]
  },
  {
   "cell_type": "code",
   "execution_count": 10,
   "metadata": {},
   "outputs": [
    {
     "name": "stdout",
     "output_type": "stream",
     "text": [
      "(28, 28)\n"
     ]
    },
    {
     "data": {
      "text/plain": [
       "<matplotlib.image.AxesImage at 0x50a5828>"
      ]
     },
     "execution_count": 10,
     "metadata": {},
     "output_type": "execute_result"
    },
    {
     "data": {
      "image/png": "[encoded data removed]",
      "text/plain": [
       "<Figure size 432x288 with 1 Axes>"
      ]
     },
     "metadata": {
      "needs_background": "light"
     },
     "output_type": "display_data"
    }
   ],
   "source": [
    "a_data, a_label = train_set[2]\n",
    "a_data=np.reshape(a_data,(28,28))\n",
    "a_data=Random_affine(a_data,4)\n",
    "print(a_data.shape)\n",
    "\n",
    "plt.imshow(a_data)"
   ]
  },
  {
   "cell_type": "code",
   "execution_count": 11,
   "metadata": {},
   "outputs": [
    {
     "data": {
      "text/plain": [
       "<matplotlib.image.AxesImage at 0x51362b0>"
      ]
     },
     "execution_count": 11,
     "metadata": {},
     "output_type": "execute_result"
    },
    {
     "data": {
      "image/png": "[encoded data removed]",
      "text/plain": [
       "<Figure size 432x288 with 1 Axes>"
      ]
     },
     "metadata": {
      "needs_background": "light"
     },
     "output_type": "display_data"
    }
   ],
   "source": [
    "b_data, b_label = train_set[2]\n",
    "b_data.shape\n",
    "b_data=np.reshape(b_data,(28,28))\n",
    "b_data\n",
    "plt.imshow(b_data)"
   ]
  },
  {
   "cell_type": "code",
   "execution_count": 12,
   "metadata": {},
   "outputs": [
    {
     "name": "stdout",
     "output_type": "stream",
     "text": [
      "(1, 28, 28)\n"
     ]
    },
    {
     "data": {
      "text/plain": [
       "<matplotlib.image.AxesImage at 0x519c128>"
      ]
     },
     "execution_count": 12,
     "metadata": {},
     "output_type": "execute_result"
    },
    {
     "data": {
      "image/png": "[encoded data removed]",
      "text/plain": [
       "<Figure size 432x288 with 1 Axes>"
      ]
     },
     "metadata": {
      "needs_background": "light"
     },
     "output_type": "display_data"
    }
   ],
   "source": [
    "a_data, a_label = train_set[2]\n",
    "a_data\n",
    "k=elastic_transformations(34,4)\n",
    "a_data=k(a_data)\n",
    "#a_data=elastic_transform(a_data,34,4)\n",
    "a_data=np.array(a_data, dtype='float32')\n",
    "print(a_data.shape)\n",
    "\n",
    "a_data=np.reshape(a_data,(28,28))\n",
    "\n",
    "\n",
    "plt.imshow(a_data)\n"
   ]
  },
  {
   "cell_type": "code",
   "execution_count": 13,
   "metadata": {},
   "outputs": [],
   "source": [
    "class SimpleConv(nn.Module):\n",
    "    def __init__(self):\n",
    "        super(SimpleConv,self).__init__()\n",
    "        self.layer1=nn.Sequential(nn.Conv2d(1,5,kernel_size=5,stride=(2,2),padding=(1,1)),nn.BatchNorm2d(5),nn.Sigmoid())#5 13 13\n",
    "        self.layer2=nn.Sequential(nn.Conv2d(5,50,kernel_size=5,stride=(2,2)),nn.BatchNorm2d(50),nn.Sigmoid()) #50 5 5\n",
    "       \n",
    "        self.fc=nn.Sequential(\n",
    "            nn.Linear(5*5*50,100),\n",
    "            nn.Sigmoid(),\n",
    "            nn.Linear(100,10),\n",
    "        )\n",
    "        \n",
    "    def forward(self,x):\n",
    "        x =  self.layer1(x)\n",
    "        x =  self.layer2(x)\n",
    "        x =  x.view(x.size(0),-1)#展平\n",
    "        x =  self.fc(x)\n",
    "        return  x\n",
    "        "
   ]
  },
  {
   "cell_type": "code",
   "execution_count": 14,
   "metadata": {},
   "outputs": [
    {
     "name": "stdout",
     "output_type": "stream",
     "text": [
      "True\n",
      "cuda\n"
     ]
    },
    {
     "data": {
      "text/plain": [
       "SimpleConv(\n",
       "  (layer1): Sequential(\n",
       "    (0): Conv2d(1, 5, kernel_size=(5, 5), stride=(2, 2), padding=(1, 1))\n",
       "    (1): BatchNorm2d(5, eps=1e-05, momentum=0.1, affine=True, track_running_stats=True)\n",
       "    (2): Sigmoid()\n",
       "  )\n",
       "  (layer2): Sequential(\n",
       "    (0): Conv2d(5, 50, kernel_size=(5, 5), stride=(2, 2))\n",
       "    (1): BatchNorm2d(50, eps=1e-05, momentum=0.1, affine=True, track_running_stats=True)\n",
       "    (2): Sigmoid()\n",
       "  )\n",
       "  (fc): Sequential(\n",
       "    (0): Linear(in_features=1250, out_features=100, bias=True)\n",
       "    (1): Sigmoid()\n",
       "    (2): Linear(in_features=100, out_features=10, bias=True)\n",
       "  )\n",
       ")"
      ]
     },
     "execution_count": 14,
     "metadata": {},
     "output_type": "execute_result"
    }
   ],
   "source": [
    "\n",
    "print(torch.cuda.is_available())\n",
    "if(torch.cuda.is_available()):\n",
    "    net=SimpleConv().cuda()\n",
    "    print(\"cuda\")\n",
    "else:\n",
    "    net=SimpleConv()\n",
    "net.train()"
   ]
  },
  {
   "cell_type": "code",
   "execution_count": 15,
   "metadata": {},
   "outputs": [],
   "source": [
    "import torch.optim as optim\n",
    "from torch.optim import lr_scheduler\n",
    "# 定义 loss 函数\n",
    "loss_func  = nn.CrossEntropyLoss()\n",
    "optimizer = torch.optim.SGD(net.parameters(), 0.005) # 使用随机梯度下降，学习率 0.1\n",
    "scheduler = lr_scheduler.StepLR(optimizer, step_size=100, gamma=0.3)\n"
   ]
  },
  {
   "cell_type": "code",
   "execution_count": 16,
   "metadata": {},
   "outputs": [],
   "source": [
    "from datetime import datetime\n",
    "def get_acc(output, label):\n",
    "    total = output.shape[0]\n",
    "    _, pred_label = output.max(1)\n",
    "    num_correct = (pred_label == label).sum().item()\n",
    "    return num_correct / total\n",
    "\n",
    "\n",
    "def train(net, train_data, valid_data, num_epochs, optimizer, criterion,scheduler):\n",
    "    if torch.cuda.is_available():\n",
    "        net = net.cuda()\n",
    "    prev_time = datetime.now()\n",
    "    for epoch in range(num_epochs):\n",
    "        scheduler.step()\n",
    "        train_loss = 0\n",
    "        train_acc = 0\n",
    "        net = net.train()\n",
    "        for im, label in train_data:\n",
    "          new_data=[]\n",
    "          train_list=[]\n",
    "          train_list.append(im)\n",
    "          '''\n",
    "          for i in range(im.shape[0]):\n",
    "              a_data=np.reshape(im[i],(28,28))\n",
    "              affine=Random_affine(a_data,4)\n",
    "              affine=np.reshape(affine,(1,28,28))\n",
    "              new_data.append(affine)\n",
    "          new_data=np.array(new_data)\n",
    "          new_data=torch.from_numpy(new_data)\n",
    "          #print(\"$$$\",im.dtype,new_data.dtype)\n",
    "          '''   \n",
    "          for i in range(im.shape[0]):             \n",
    "              ela_temp=elastic_transformations(34,4)\n",
    "              elastic=ela_temp(im[i])\n",
    "              elastic=np.array(elastic, dtype='float32')\n",
    "              new_data.append(elastic)\n",
    "                \n",
    "                \n",
    "          new_data=np.array(new_data)\n",
    "          new_data=torch.from_numpy(new_data)\n",
    "          train_list.append(new_data)\n",
    "\n",
    "          for ims in train_list:\n",
    "            if torch.cuda.is_available():\n",
    "                ims = Variable(ims.cuda())  # (bs, 3, h, w)\n",
    "                label = Variable(label.cuda())  # (bs, h, w)\n",
    "            else:\n",
    "                ims = Variable(ims)\n",
    "                label = Variable(label)\n",
    "            # forward\n",
    "            #print(ims.shape)\n",
    "            output = net(ims)\n",
    "            loss = criterion(output, label)\n",
    "            # backward\n",
    "            optimizer.zero_grad()\n",
    "            loss.backward()\n",
    "            optimizer.step()\n",
    "\n",
    "            train_loss += loss.item()\n",
    "            train_acc += get_acc(output, label)\n",
    "\n",
    "        cur_time = datetime.now()\n",
    "        h, remainder = divmod((cur_time - prev_time).seconds, 3600)\n",
    "        m, s = divmod(remainder, 60)\n",
    "        time_str = \"Time %02d:%02d:%02d\" % (h, m, s)\n",
    "        if valid_data is not None:\n",
    "            valid_loss = 0\n",
    "            valid_acc = 0\n",
    "            net = net.eval()\n",
    "            for im, label in valid_data:\n",
    "                if torch.cuda.is_available():\n",
    "                    im = Variable(im.cuda(), volatile=True)\n",
    "                    label = Variable(label.cuda(), volatile=True)\n",
    "                else:\n",
    "                    im = Variable(im, volatile=True)\n",
    "                    label = Variable(label, volatile=True)\n",
    "                output = net(im)\n",
    "                loss = criterion(output, label)\n",
    "                valid_loss += loss.item()\n",
    "                valid_acc += get_acc(output, label)\n",
    "            epoch_str = (\n",
    "                \"Epoch %d. Train Loss: %f, Train Acc: %f, Valid Loss: %f, Valid Acc: %f, \"\n",
    "                % (epoch, train_loss / len(train_data),\n",
    "                   train_acc / len(train_data), valid_loss / len(valid_data),\n",
    "                   valid_acc / len(valid_data)))\n",
    "        else:\n",
    "            epoch_str = (\"Epoch %d. Train Loss: %f, Train Acc: %f, \" %\n",
    "                         (epoch, train_loss / len(train_data),\n",
    "                          train_acc / len(train_data)))\n",
    "        prev_time = cur_time\n",
    "        print(epoch_str + time_str)"
   ]
  },
  {
   "cell_type": "code",
   "execution_count": 21,
   "metadata": {},
   "outputs": [
    {
     "data": {
      "text/plain": [
       "<All keys matched successfully>"
      ]
     },
     "execution_count": 21,
     "metadata": {},
     "output_type": "execute_result"
    }
   ],
   "source": [
    "#将预训练模型载入\n",
    "net.load_state_dict(torch.load('./elastic.pth',map_location='cpu'))"
   ]
  },
  {
   "cell_type": "code",
   "execution_count": 22,
   "metadata": {},
   "outputs": [
    {
     "name": "stderr",
     "output_type": "stream",
     "text": [
      "D:\\anaconda\\lib\\site-packages\\ipykernel_launcher.py:72: UserWarning: volatile was removed and now has no effect. Use `with torch.no_grad():` instead.\n",
      "D:\\anaconda\\lib\\site-packages\\ipykernel_launcher.py:73: UserWarning: volatile was removed and now has no effect. Use `with torch.no_grad():` instead.\n"
     ]
    },
    {
     "name": "stdout",
     "output_type": "stream",
     "text": [
      "Epoch 0. Train Loss: 0.161181, Train Acc: 1.949993, Valid Loss: 0.027298, Valid Acc: 0.990902, Time 00:02:12\n",
      "Epoch 1. Train Loss: 0.159656, Train Acc: 1.950560, Valid Loss: 0.028896, Valid Acc: 0.990605, Time 00:02:10\n",
      "Epoch 2. Train Loss: 0.164541, Train Acc: 1.949544, Valid Loss: 0.026324, Valid Acc: 0.991199, Time 00:02:12\n",
      "Epoch 3. Train Loss: 0.165839, Train Acc: 1.950227, Valid Loss: 0.029156, Valid Acc: 0.990704, Time 00:02:14\n",
      "Epoch 4. Train Loss: 0.164880, Train Acc: 1.949044, Valid Loss: 0.028317, Valid Acc: 0.991001, Time 00:02:13\n",
      "Epoch 5. Train Loss: 0.162924, Train Acc: 1.949544, Valid Loss: 0.027917, Valid Acc: 0.990605, Time 00:02:10\n",
      "Epoch 6. Train Loss: 0.163674, Train Acc: 1.949344, Valid Loss: 0.030294, Valid Acc: 0.989715, Time 00:02:11\n",
      "Epoch 7. Train Loss: 0.161080, Train Acc: 1.950876, Valid Loss: 0.031469, Valid Acc: 0.990012, Time 00:02:10\n",
      "Epoch 8. Train Loss: 0.164298, Train Acc: 1.948844, Valid Loss: 0.029004, Valid Acc: 0.990902, Time 00:02:12\n",
      "Epoch 9. Train Loss: 0.162810, Train Acc: 1.950393, Valid Loss: 0.027772, Valid Acc: 0.990704, Time 00:02:15\n",
      "Epoch 10. Train Loss: 0.161914, Train Acc: 1.950676, Valid Loss: 0.028992, Valid Acc: 0.991001, Time 00:02:12\n",
      "Epoch 11. Train Loss: 0.161980, Train Acc: 1.950426, Valid Loss: 0.028676, Valid Acc: 0.990803, Time 00:02:02\n",
      "Epoch 12. Train Loss: 0.162473, Train Acc: 1.949377, Valid Loss: 0.027197, Valid Acc: 0.990605, Time 00:02:01\n",
      "Epoch 13. Train Loss: 0.162902, Train Acc: 1.950027, Valid Loss: 0.027467, Valid Acc: 0.991199, Time 00:02:01\n",
      "Epoch 14. Train Loss: 0.161833, Train Acc: 1.950576, Valid Loss: 0.028198, Valid Acc: 0.990803, Time 00:02:01\n",
      "Epoch 15. Train Loss: 0.161126, Train Acc: 1.949793, Valid Loss: 0.029756, Valid Acc: 0.990111, Time 00:02:01\n",
      "Epoch 16. Train Loss: 0.159698, Train Acc: 1.952109, Valid Loss: 0.025934, Valid Acc: 0.991001, Time 00:02:01\n",
      "Epoch 17. Train Loss: 0.160951, Train Acc: 1.950810, Valid Loss: 0.027868, Valid Acc: 0.990605, Time 00:02:01\n",
      "Epoch 18. Train Loss: 0.158548, Train Acc: 1.951909, Valid Loss: 0.027303, Valid Acc: 0.991100, Time 00:02:00\n",
      "Epoch 19. Train Loss: 0.163727, Train Acc: 1.949444, Valid Loss: 0.026371, Valid Acc: 0.991297, Time 00:02:00\n",
      "Epoch 20. Train Loss: 0.160502, Train Acc: 1.950143, Valid Loss: 0.026970, Valid Acc: 0.991001, Time 00:02:00\n",
      "Epoch 21. Train Loss: 0.159792, Train Acc: 1.951426, Valid Loss: 0.028764, Valid Acc: 0.990506, Time 00:02:00\n",
      "Epoch 22. Train Loss: 0.161411, Train Acc: 1.950510, Valid Loss: 0.026923, Valid Acc: 0.991100, Time 00:02:04\n",
      "Epoch 23. Train Loss: 0.163530, Train Acc: 1.949394, Valid Loss: 0.027322, Valid Acc: 0.990704, Time 00:02:11\n",
      "Epoch 24. Train Loss: 0.158213, Train Acc: 1.951109, Valid Loss: 0.028889, Valid Acc: 0.990407, Time 00:02:04\n",
      "Epoch 25. Train Loss: 0.164239, Train Acc: 1.949910, Valid Loss: 0.026358, Valid Acc: 0.991297, Time 00:02:08\n",
      "Epoch 26. Train Loss: 0.163890, Train Acc: 1.949044, Valid Loss: 0.029321, Valid Acc: 0.991001, Time 00:02:06\n",
      "Epoch 27. Train Loss: 0.160749, Train Acc: 1.951009, Valid Loss: 0.027376, Valid Acc: 0.991297, Time 00:02:12\n",
      "Epoch 28. Train Loss: 0.164698, Train Acc: 1.949110, Valid Loss: 0.029622, Valid Acc: 0.990506, Time 00:02:18\n",
      "Epoch 29. Train Loss: 0.161672, Train Acc: 1.950626, Valid Loss: 0.027286, Valid Acc: 0.991297, Time 00:02:17\n",
      "Epoch 30. Train Loss: 0.161786, Train Acc: 1.950393, Valid Loss: 0.027948, Valid Acc: 0.990803, Time 00:02:14\n",
      "Epoch 31. Train Loss: 0.160235, Train Acc: 1.951409, Valid Loss: 0.028917, Valid Acc: 0.990309, Time 00:02:20\n",
      "Epoch 32. Train Loss: 0.160464, Train Acc: 1.950476, Valid Loss: 0.026880, Valid Acc: 0.991594, Time 00:02:10\n",
      "Epoch 33. Train Loss: 0.157662, Train Acc: 1.951509, Valid Loss: 0.028019, Valid Acc: 0.990506, Time 00:02:11\n",
      "Epoch 34. Train Loss: 0.159029, Train Acc: 1.951076, Valid Loss: 0.026033, Valid Acc: 0.991199, Time 00:02:10\n",
      "Epoch 35. Train Loss: 0.159896, Train Acc: 1.951193, Valid Loss: 0.025592, Valid Acc: 0.991199, Time 00:02:12\n",
      "Epoch 36. Train Loss: 0.158547, Train Acc: 1.950476, Valid Loss: 0.030413, Valid Acc: 0.989814, Time 00:02:13\n",
      "Epoch 37. Train Loss: 0.159953, Train Acc: 1.951243, Valid Loss: 0.026979, Valid Acc: 0.990605, Time 00:02:10\n",
      "Epoch 38. Train Loss: 0.160139, Train Acc: 1.950976, Valid Loss: 0.026551, Valid Acc: 0.991001, Time 00:02:14\n",
      "Epoch 39. Train Loss: 0.161464, Train Acc: 1.950143, Valid Loss: 0.026897, Valid Acc: 0.991297, Time 00:02:17\n",
      "Epoch 40. Train Loss: 0.159613, Train Acc: 1.951159, Valid Loss: 0.029932, Valid Acc: 0.990309, Time 00:02:12\n",
      "Epoch 41. Train Loss: 0.159025, Train Acc: 1.951942, Valid Loss: 0.027278, Valid Acc: 0.990506, Time 00:02:17\n",
      "Epoch 42. Train Loss: 0.158768, Train Acc: 1.950626, Valid Loss: 0.027055, Valid Acc: 0.991001, Time 00:02:17\n",
      "Epoch 43. Train Loss: 0.161069, Train Acc: 1.950326, Valid Loss: 0.025477, Valid Acc: 0.991495, Time 00:02:15\n",
      "Epoch 44. Train Loss: 0.157286, Train Acc: 1.951726, Valid Loss: 0.025694, Valid Acc: 0.991594, Time 00:02:20\n",
      "Epoch 45. Train Loss: 0.158436, Train Acc: 1.951309, Valid Loss: 0.027085, Valid Acc: 0.990704, Time 00:02:29\n",
      "Epoch 46. Train Loss: 0.158123, Train Acc: 1.950959, Valid Loss: 0.025809, Valid Acc: 0.991199, Time 00:02:20\n",
      "Epoch 47. Train Loss: 0.159026, Train Acc: 1.951009, Valid Loss: 0.026953, Valid Acc: 0.991199, Time 00:02:16\n",
      "Epoch 48. Train Loss: 0.157954, Train Acc: 1.951876, Valid Loss: 0.026128, Valid Acc: 0.991297, Time 00:02:17\n",
      "Epoch 49. Train Loss: 0.158189, Train Acc: 1.951709, Valid Loss: 0.026336, Valid Acc: 0.991001, Time 00:02:20\n",
      "Epoch 50. Train Loss: 0.155212, Train Acc: 1.951476, Valid Loss: 0.026741, Valid Acc: 0.990902, Time 00:02:16\n",
      "Epoch 51. Train Loss: 0.157437, Train Acc: 1.951759, Valid Loss: 0.025931, Valid Acc: 0.991001, Time 00:02:16\n",
      "Epoch 52. Train Loss: 0.157175, Train Acc: 1.951926, Valid Loss: 0.025895, Valid Acc: 0.991100, Time 00:02:18\n",
      "Epoch 53. Train Loss: 0.158627, Train Acc: 1.952242, Valid Loss: 0.026296, Valid Acc: 0.991396, Time 00:02:21\n",
      "Epoch 54. Train Loss: 0.159810, Train Acc: 1.950959, Valid Loss: 0.025874, Valid Acc: 0.991199, Time 00:02:18\n",
      "Epoch 55. Train Loss: 0.155922, Train Acc: 1.951926, Valid Loss: 0.026474, Valid Acc: 0.990704, Time 00:02:19\n",
      "Epoch 56. Train Loss: 0.155044, Train Acc: 1.952442, Valid Loss: 0.025858, Valid Acc: 0.991693, Time 00:02:16\n",
      "Epoch 57. Train Loss: 0.155557, Train Acc: 1.952092, Valid Loss: 0.026329, Valid Acc: 0.991199, Time 00:02:31\n",
      "Epoch 58. Train Loss: 0.156632, Train Acc: 1.951226, Valid Loss: 0.025936, Valid Acc: 0.991100, Time 00:02:36\n",
      "Epoch 59. Train Loss: 0.158330, Train Acc: 1.951326, Valid Loss: 0.026251, Valid Acc: 0.991001, Time 00:02:34\n",
      "Epoch 60. Train Loss: 0.157507, Train Acc: 1.952625, Valid Loss: 0.026353, Valid Acc: 0.990902, Time 00:02:38\n",
      "Epoch 61. Train Loss: 0.153271, Train Acc: 1.952825, Valid Loss: 0.026381, Valid Acc: 0.990902, Time 00:02:34\n",
      "Epoch 62. Train Loss: 0.158286, Train Acc: 1.951493, Valid Loss: 0.026698, Valid Acc: 0.991001, Time 00:02:34\n",
      "Epoch 63. Train Loss: 0.156206, Train Acc: 1.951759, Valid Loss: 0.025857, Valid Acc: 0.991199, Time 00:02:36\n",
      "Epoch 64. Train Loss: 0.160416, Train Acc: 1.951226, Valid Loss: 0.026122, Valid Acc: 0.990902, Time 00:02:40\n",
      "Epoch 65. Train Loss: 0.159486, Train Acc: 1.951409, Valid Loss: 0.026079, Valid Acc: 0.990704, Time 00:02:34\n",
      "Epoch 66. Train Loss: 0.158865, Train Acc: 1.951876, Valid Loss: 0.025914, Valid Acc: 0.991594, Time 00:02:36\n",
      "Epoch 67. Train Loss: 0.154277, Train Acc: 1.953475, Valid Loss: 0.026051, Valid Acc: 0.991001, Time 00:02:36\n",
      "Epoch 68. Train Loss: 0.157084, Train Acc: 1.951742, Valid Loss: 0.026252, Valid Acc: 0.991001, Time 00:02:35\n",
      "Epoch 69. Train Loss: 0.155830, Train Acc: 1.951909, Valid Loss: 0.026271, Valid Acc: 0.990902, Time 00:02:35\n",
      "Epoch 70. Train Loss: 0.156478, Train Acc: 1.952958, Valid Loss: 0.026075, Valid Acc: 0.991297, Time 00:02:33\n",
      "Epoch 71. Train Loss: 0.153753, Train Acc: 1.952542, Valid Loss: 0.026506, Valid Acc: 0.991001, Time 00:02:46\n",
      "Epoch 72. Train Loss: 0.156800, Train Acc: 1.951959, Valid Loss: 0.025758, Valid Acc: 0.990902, Time 00:02:40\n",
      "Epoch 73. Train Loss: 0.155058, Train Acc: 1.951892, Valid Loss: 0.025821, Valid Acc: 0.991297, Time 00:02:36\n"
     ]
    },
    {
     "name": "stdout",
     "output_type": "stream",
     "text": [
      "Epoch 74. Train Loss: 0.155183, Train Acc: 1.952475, Valid Loss: 0.025901, Valid Acc: 0.990902, Time 00:02:40\n",
      "Epoch 75. Train Loss: 0.158780, Train Acc: 1.952242, Valid Loss: 0.026729, Valid Acc: 0.990902, Time 00:02:37\n",
      "Epoch 76. Train Loss: 0.154239, Train Acc: 1.952942, Valid Loss: 0.027021, Valid Acc: 0.991100, Time 00:02:38\n",
      "Epoch 77. Train Loss: 0.155024, Train Acc: 1.952042, Valid Loss: 0.026722, Valid Acc: 0.990902, Time 00:02:36\n",
      "Epoch 78. Train Loss: 0.155401, Train Acc: 1.952659, Valid Loss: 0.026133, Valid Acc: 0.991297, Time 00:02:36\n",
      "Epoch 79. Train Loss: 0.155012, Train Acc: 1.952492, Valid Loss: 0.026405, Valid Acc: 0.990902, Time 00:02:38\n",
      "Epoch 80. Train Loss: 0.155190, Train Acc: 1.952709, Valid Loss: 0.025924, Valid Acc: 0.991297, Time 00:02:24\n",
      "Epoch 81. Train Loss: 0.156194, Train Acc: 1.952725, Valid Loss: 0.025952, Valid Acc: 0.991001, Time 00:02:17\n",
      "Epoch 82. Train Loss: 0.157837, Train Acc: 1.951792, Valid Loss: 0.026236, Valid Acc: 0.991100, Time 00:02:19\n",
      "Epoch 83. Train Loss: 0.155194, Train Acc: 1.951742, Valid Loss: 0.025886, Valid Acc: 0.991297, Time 00:02:19\n",
      "Epoch 84. Train Loss: 0.157375, Train Acc: 1.951626, Valid Loss: 0.026214, Valid Acc: 0.991001, Time 00:02:19\n",
      "Epoch 85. Train Loss: 0.158381, Train Acc: 1.951126, Valid Loss: 0.026117, Valid Acc: 0.991297, Time 00:02:20\n",
      "Epoch 86. Train Loss: 0.155864, Train Acc: 1.952009, Valid Loss: 0.025848, Valid Acc: 0.991100, Time 00:02:23\n",
      "Epoch 87. Train Loss: 0.158178, Train Acc: 1.951076, Valid Loss: 0.025997, Valid Acc: 0.991001, Time 00:02:26\n",
      "Epoch 88. Train Loss: 0.154332, Train Acc: 1.953042, Valid Loss: 0.025321, Valid Acc: 0.991495, Time 00:02:20\n",
      "Epoch 89. Train Loss: 0.155807, Train Acc: 1.952325, Valid Loss: 0.025786, Valid Acc: 0.991100, Time 00:02:22\n",
      "Epoch 90. Train Loss: 0.155372, Train Acc: 1.952809, Valid Loss: 0.025310, Valid Acc: 0.991396, Time 00:02:23\n",
      "Epoch 91. Train Loss: 0.155929, Train Acc: 1.952359, Valid Loss: 0.026250, Valid Acc: 0.991100, Time 00:02:12\n",
      "Epoch 92. Train Loss: 0.156335, Train Acc: 1.952492, Valid Loss: 0.026031, Valid Acc: 0.990803, Time 00:02:13\n",
      "Epoch 93. Train Loss: 0.155694, Train Acc: 1.952409, Valid Loss: 0.025775, Valid Acc: 0.991001, Time 00:02:23\n",
      "Epoch 94. Train Loss: 0.154309, Train Acc: 1.952009, Valid Loss: 0.025971, Valid Acc: 0.991297, Time 00:02:24\n",
      "Epoch 95. Train Loss: 0.154725, Train Acc: 1.953058, Valid Loss: 0.025713, Valid Acc: 0.991297, Time 00:02:18\n",
      "Epoch 96. Train Loss: 0.152891, Train Acc: 1.953242, Valid Loss: 0.026084, Valid Acc: 0.990902, Time 00:02:20\n",
      "Epoch 97. Train Loss: 0.156347, Train Acc: 1.952908, Valid Loss: 0.025506, Valid Acc: 0.991199, Time 00:02:18\n",
      "Epoch 98. Train Loss: 0.154597, Train Acc: 1.952559, Valid Loss: 0.025995, Valid Acc: 0.991100, Time 00:02:21\n",
      "Epoch 99. Train Loss: 0.154505, Train Acc: 1.953342, Valid Loss: 0.025816, Valid Acc: 0.991297, Time 00:02:24\n",
      "Epoch 100. Train Loss: 0.154994, Train Acc: 1.953342, Valid Loss: 0.026382, Valid Acc: 0.991100, Time 00:02:23\n",
      "Epoch 101. Train Loss: 0.156742, Train Acc: 1.950876, Valid Loss: 0.026107, Valid Acc: 0.991199, Time 00:02:20\n",
      "Epoch 102. Train Loss: 0.155048, Train Acc: 1.952442, Valid Loss: 0.026579, Valid Acc: 0.991199, Time 00:02:16\n",
      "Epoch 103. Train Loss: 0.157150, Train Acc: 1.951326, Valid Loss: 0.026110, Valid Acc: 0.990902, Time 00:02:34\n",
      "Epoch 104. Train Loss: 0.157337, Train Acc: 1.953275, Valid Loss: 0.025621, Valid Acc: 0.991297, Time 00:02:27\n",
      "Epoch 105. Train Loss: 0.154863, Train Acc: 1.952375, Valid Loss: 0.026089, Valid Acc: 0.991100, Time 00:02:29\n",
      "Epoch 106. Train Loss: 0.156424, Train Acc: 1.951692, Valid Loss: 0.026146, Valid Acc: 0.990902, Time 00:02:22\n",
      "Epoch 107. Train Loss: 0.157724, Train Acc: 1.951509, Valid Loss: 0.026313, Valid Acc: 0.991297, Time 00:02:16\n",
      "Epoch 108. Train Loss: 0.154164, Train Acc: 1.952525, Valid Loss: 0.026070, Valid Acc: 0.991396, Time 00:02:15\n",
      "Epoch 109. Train Loss: 0.156051, Train Acc: 1.951459, Valid Loss: 0.025527, Valid Acc: 0.991693, Time 00:02:13\n",
      "Epoch 110. Train Loss: 0.154710, Train Acc: 1.952792, Valid Loss: 0.025496, Valid Acc: 0.991297, Time 00:02:13\n",
      "Epoch 111. Train Loss: 0.155347, Train Acc: 1.952425, Valid Loss: 0.025639, Valid Acc: 0.991396, Time 00:02:20\n",
      "Epoch 112. Train Loss: 0.155301, Train Acc: 1.953108, Valid Loss: 0.025655, Valid Acc: 0.991495, Time 00:02:17\n",
      "Epoch 113. Train Loss: 0.153066, Train Acc: 1.953875, Valid Loss: 0.026525, Valid Acc: 0.990704, Time 00:02:35\n",
      "Epoch 114. Train Loss: 0.153457, Train Acc: 1.952642, Valid Loss: 0.025706, Valid Acc: 0.991594, Time 00:02:21\n",
      "Epoch 115. Train Loss: 0.157543, Train Acc: 1.951709, Valid Loss: 0.026180, Valid Acc: 0.990902, Time 00:02:14\n",
      "Epoch 116. Train Loss: 0.157869, Train Acc: 1.952659, Valid Loss: 0.025930, Valid Acc: 0.991001, Time 00:02:15\n",
      "Epoch 117. Train Loss: 0.156720, Train Acc: 1.951543, Valid Loss: 0.025988, Valid Acc: 0.991297, Time 00:02:22\n",
      "Epoch 118. Train Loss: 0.155539, Train Acc: 1.951892, Valid Loss: 0.025461, Valid Acc: 0.991199, Time 00:02:21\n",
      "Epoch 119. Train Loss: 0.156212, Train Acc: 1.951909, Valid Loss: 0.025539, Valid Acc: 0.991396, Time 00:02:34\n",
      "Epoch 120. Train Loss: 0.154379, Train Acc: 1.952325, Valid Loss: 0.025703, Valid Acc: 0.991396, Time 00:02:19\n",
      "Epoch 121. Train Loss: 0.151346, Train Acc: 1.953491, Valid Loss: 0.025844, Valid Acc: 0.991100, Time 00:02:17\n",
      "Epoch 122. Train Loss: 0.154806, Train Acc: 1.952259, Valid Loss: 0.025538, Valid Acc: 0.991001, Time 00:02:47\n",
      "Epoch 123. Train Loss: 0.153421, Train Acc: 1.952925, Valid Loss: 0.026263, Valid Acc: 0.991100, Time 00:02:32\n",
      "Epoch 124. Train Loss: 0.153197, Train Acc: 1.953558, Valid Loss: 0.027092, Valid Acc: 0.991199, Time 00:02:41\n",
      "Epoch 125. Train Loss: 0.152484, Train Acc: 1.953242, Valid Loss: 0.025409, Valid Acc: 0.991297, Time 00:02:57\n",
      "Epoch 126. Train Loss: 0.154008, Train Acc: 1.952759, Valid Loss: 0.026158, Valid Acc: 0.991001, Time 00:03:16\n",
      "Epoch 127. Train Loss: 0.153844, Train Acc: 1.952675, Valid Loss: 0.026052, Valid Acc: 0.991199, Time 00:03:18\n",
      "Epoch 128. Train Loss: 0.153854, Train Acc: 1.953475, Valid Loss: 0.025317, Valid Acc: 0.991297, Time 01:36:39\n",
      "Epoch 129. Train Loss: 0.158936, Train Acc: 1.950760, Valid Loss: 0.025539, Valid Acc: 0.991495, Time 00:02:16\n",
      "Epoch 130. Train Loss: 0.153593, Train Acc: 1.952925, Valid Loss: 0.025489, Valid Acc: 0.991199, Time 00:02:16\n",
      "Epoch 131. Train Loss: 0.152689, Train Acc: 1.952908, Valid Loss: 0.025916, Valid Acc: 0.991693, Time 00:02:15\n",
      "Epoch 132. Train Loss: 0.153447, Train Acc: 1.952409, Valid Loss: 0.025942, Valid Acc: 0.991297, Time 00:02:17\n",
      "Epoch 133. Train Loss: 0.156703, Train Acc: 1.952242, Valid Loss: 0.025712, Valid Acc: 0.991594, Time 00:02:16\n",
      "Epoch 134. Train Loss: 0.156443, Train Acc: 1.951909, Valid Loss: 0.026132, Valid Acc: 0.990803, Time 00:02:16\n",
      "Epoch 135. Train Loss: 0.156480, Train Acc: 1.953175, Valid Loss: 0.025618, Valid Acc: 0.991001, Time 00:02:16\n",
      "Epoch 136. Train Loss: 0.152938, Train Acc: 1.952825, Valid Loss: 0.026055, Valid Acc: 0.991001, Time 00:02:16\n",
      "Epoch 137. Train Loss: 0.155363, Train Acc: 1.952192, Valid Loss: 0.025927, Valid Acc: 0.991001, Time 00:02:16\n",
      "Epoch 138. Train Loss: 0.156250, Train Acc: 1.952775, Valid Loss: 0.025763, Valid Acc: 0.991199, Time 00:02:16\n",
      "Epoch 139. Train Loss: 0.153510, Train Acc: 1.952725, Valid Loss: 0.026379, Valid Acc: 0.991199, Time 00:02:16\n",
      "Epoch 140. Train Loss: 0.154672, Train Acc: 1.952825, Valid Loss: 0.025192, Valid Acc: 0.991495, Time 00:02:16\n",
      "Epoch 141. Train Loss: 0.154932, Train Acc: 1.952392, Valid Loss: 0.026159, Valid Acc: 0.991199, Time 00:02:15\n",
      "Epoch 142. Train Loss: 0.154968, Train Acc: 1.952442, Valid Loss: 0.026210, Valid Acc: 0.990902, Time 00:02:16\n",
      "Epoch 143. Train Loss: 0.157397, Train Acc: 1.952142, Valid Loss: 0.025891, Valid Acc: 0.991297, Time 00:02:16\n",
      "Epoch 144. Train Loss: 0.156012, Train Acc: 1.951376, Valid Loss: 0.026023, Valid Acc: 0.990902, Time 00:02:16\n",
      "Epoch 145. Train Loss: 0.155759, Train Acc: 1.951809, Valid Loss: 0.025714, Valid Acc: 0.991100, Time 00:02:16\n",
      "Epoch 146. Train Loss: 0.155753, Train Acc: 1.953125, Valid Loss: 0.025719, Valid Acc: 0.991297, Time 00:02:15\n",
      "Epoch 147. Train Loss: 0.155084, Train Acc: 1.952159, Valid Loss: 0.026122, Valid Acc: 0.990902, Time 00:02:16\n"
     ]
    },
    {
     "name": "stdout",
     "output_type": "stream",
     "text": [
      "Epoch 148. Train Loss: 0.152773, Train Acc: 1.953242, Valid Loss: 0.025427, Valid Acc: 0.991100, Time 00:02:16\n",
      "Epoch 149. Train Loss: 0.159146, Train Acc: 1.950743, Valid Loss: 0.025952, Valid Acc: 0.990704, Time 00:02:15\n"
     ]
    }
   ],
   "source": [
    "\n",
    "train(net, train_data, test_data, 150, optimizer, loss_func,scheduler=scheduler)\n"
   ]
  },
  {
   "cell_type": "code",
   "execution_count": 20,
   "metadata": {},
   "outputs": [],
   "source": [
    "#保存模型\n",
    "model_path='./elastic.pth'\n",
    "torch.save(net.state_dict(),model_path)"
   ]
  },
  {
   "cell_type": "code",
   "execution_count": null,
   "metadata": {},
   "outputs": [],
   "source": []
  }
 ],
 "metadata": {
  "kernelspec": {
   "display_name": "Python 3",
   "language": "python",
   "name": "python3"
  },
  "language_info": {
   "codemirror_mode": {
    "name": "ipython",
    "version": 3
   },
   "file_extension": ".py",
   "mimetype": "text/x-python",
   "name": "python",
   "nbconvert_exporter": "python",
   "pygments_lexer": "ipython3",
   "version": "3.7.0"
  }
 },
 "nbformat": 4,
 "nbformat_minor": 2
}
